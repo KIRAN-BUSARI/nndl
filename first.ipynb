{
 "cells": [
  {
   "cell_type": "code",
   "execution_count": 1,
   "metadata": {},
   "outputs": [],
   "source": [
    "import numpy as np"
   ]
  },
  {
   "cell_type": "code",
   "execution_count": 2,
   "metadata": {},
   "outputs": [],
   "source": [
    "# Define OR and XOR datasets\n",
    "X_OR = np.array([[0, 0], [0, 1], [1, 0], [1, 1]],dtype=np.float32)\n",
    "Y_OR = np.array([[0], [1], [1], [1]],dtype=np.float32)\n",
    "X_XOR = np.array([[0, 0], [0, 1], [1, 0], [1, 1]],dtype=np.float32)\n",
    "Y_XOR = np.array([[0], [1], [1], [0]],dtype=np.float32)"
   ]
  },
  {
   "cell_type": "code",
   "execution_count": 3,
   "metadata": {},
   "outputs": [],
   "source": [
    "import tensorflow as tf"
   ]
  },
  {
   "cell_type": "code",
   "execution_count": 1,
   "metadata": {},
   "outputs": [],
   "source": [
    "# Function to create and train a single-layer perceptron with improved accuracy\n",
    "\n",
    "def train_perceptron(X,y,epochs = 100,learning_rate = 0.1):\n",
    "  model = tf.keras.Sequential([tf.keras.layers.Dense(1,activation = 'sigmoid',input_shape = (2,))])\n",
    "  model.compile(optimizer = tf.keras.optimizers.SGD(learning_rate = learning_rate),loss = 'binary_crossentropy',metrics = ['accuracy'])\n",
    "  model.fit(X,y,epochs = epochs,verbose = 0)\n",
    "  return model"
   ]
  },
  {
   "cell_type": "code",
   "execution_count": 11,
   "metadata": {},
   "outputs": [
    {
     "name": "stderr",
     "output_type": "stream",
     "text": [
      "/Library/Frameworks/Python.framework/Versions/3.12/lib/python3.12/site-packages/keras/src/layers/core/dense.py:87: UserWarning: Do not pass an `input_shape`/`input_dim` argument to a layer. When using Sequential models, prefer using an `Input(shape)` object as the first layer in the model instead.\n",
      "  super().__init__(activity_regularizer=activity_regularizer, **kwargs)\n"
     ]
    },
    {
     "name": "stdout",
     "output_type": "stream",
     "text": [
      "\u001b[1m1/1\u001b[0m \u001b[32m━━━━━━━━━━━━━━━━━━━━\u001b[0m\u001b[37m\u001b[0m \u001b[1m0s\u001b[0m 56ms/step - accuracy: 1.0000 - loss: 0.0389\n",
      "OR gate accuracy: 1.0%\n",
      "\u001b[1m1/1\u001b[0m \u001b[32m━━━━━━━━━━━━━━━━━━━━\u001b[0m\u001b[37m\u001b[0m \u001b[1m0s\u001b[0m 58ms/step - accuracy: 0.2500 - loss: 0.6931\n",
      "XOR gate accuracy: 0.25%\n"
     ]
    }
   ],
   "source": [
    "# Train on OR gate with improved accuracy\n",
    "model_OR = train_perceptron(X_OR,Y_OR,epochs=500,learning_rate=0.5)\n",
    "\n",
    "# Evaluate on OR gate\n",
    "loss_OR,accuracy_OR = model_OR.evaluate(X_OR,Y_OR)\n",
    "# print(f'OR gate accuracy: {accuracy_OR*100:.2f}%')\n",
    "print(f'OR gate accuracy: {accuracy_OR}%')\n",
    "\n",
    "# Train on XOR gate with improved accuracy (not possible with single-layer perceptron)\n",
    "# However, we can try increasing epochs and learning rate\n",
    "model_XOR = train_perceptron(X_XOR,Y_XOR,epochs=1000,learning_rate=0.5)\n",
    "\n",
    "# Evaluate on XOR gate\n",
    "loss_XOR,accuracy_XOR = model_XOR.evaluate(X_XOR,Y_XOR)\n",
    "# print(f'XOR gate accuracy: {accuracy_XOR*100:.2f}%')\n",
    "print(f'XOR gate accuracy: {accuracy_XOR}%')"
   ]
  },
  {
   "cell_type": "code",
   "execution_count": 1,
   "metadata": {},
   "outputs": [
    {
     "ename": "NameError",
     "evalue": "name 'np' is not defined",
     "output_type": "error",
     "traceback": [
      "\u001b[0;31m---------------------------------------------------------------------------\u001b[0m",
      "\u001b[0;31mNameError\u001b[0m                                 Traceback (most recent call last)",
      "Cell \u001b[0;32mIn[1], line 4\u001b[0m\n\u001b[1;32m      1\u001b[0m in1 \u001b[38;5;241m=\u001b[39m \u001b[38;5;241m0\u001b[39m\n\u001b[1;32m      2\u001b[0m in2 \u001b[38;5;241m=\u001b[39m \u001b[38;5;241m0\u001b[39m\n\u001b[0;32m----> 4\u001b[0m user_input \u001b[38;5;241m=\u001b[39m \u001b[43mnp\u001b[49m\u001b[38;5;241m.\u001b[39marray([[in1,in2]])\n\u001b[1;32m      6\u001b[0m prediction \u001b[38;5;241m=\u001b[39m model_OR\u001b[38;5;241m.\u001b[39mpredict(user_input)\n\u001b[1;32m      7\u001b[0m \u001b[38;5;28mprint\u001b[39m(prediction)\n",
      "\u001b[0;31mNameError\u001b[0m: name 'np' is not defined"
     ]
    }
   ],
   "source": [
    "in1 = 0\n",
    "in2 = 0\n",
    "\n",
    "user_input = np.array([[in1,in2]])\n",
    "\n",
    "prediction = model_OR.predict(user_input)\n",
    "print(prediction)\n",
    "\n",
    "if prediction > 0.5:\n",
    "  print(\"The Model predicts 1 for your input.\")\n",
    "else:\n",
    "  print(\"The\")"
   ]
  },
  {
   "cell_type": "code",
   "execution_count": null,
   "metadata": {},
   "outputs": [],
   "source": []
  }
 ],
 "metadata": {
  "kernelspec": {
   "display_name": "Python 3",
   "language": "python",
   "name": "python3"
  },
  "language_info": {
   "codemirror_mode": {
    "name": "ipython",
    "version": 3
   },
   "file_extension": ".py",
   "mimetype": "text/x-python",
   "name": "python",
   "nbconvert_exporter": "python",
   "pygments_lexer": "ipython3",
   "version": "3.12.7"
  }
 },
 "nbformat": 4,
 "nbformat_minor": 4
}
